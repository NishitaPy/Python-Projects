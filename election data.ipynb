{
 "metadata": {
  "language_info": {
   "codemirror_mode": {
    "name": "ipython",
    "version": 3
   },
   "file_extension": ".py",
   "mimetype": "text/x-python",
   "name": "python",
   "nbconvert_exporter": "python",
   "pygments_lexer": "ipython3",
   "version": "3.9.5"
  },
  "orig_nbformat": 4,
  "kernelspec": {
   "name": "python3",
   "display_name": "Python 3.9.5 64-bit ('3.9')"
  },
  "interpreter": {
   "hash": "7812ea015bdcee6f23a998adcdd2ef97c151c0c241b7b7070987d9313e41299d"
  }
 },
 "nbformat": 4,
 "nbformat_minor": 2,
 "cells": [
  {
   "cell_type": "code",
   "execution_count": 1,
   "metadata": {},
   "outputs": [],
   "source": [
    "import pandas as pd \n",
    "from pandas import Series,DataFrame\n",
    "import numpy as np \n",
    "import matplotlib.pyplot as plt \n",
    "import seaborn as sns \n",
    "sns.set_style('whitegrid')"
   ]
  },
  {
   "cell_type": "code",
   "execution_count": 25,
   "metadata": {},
   "outputs": [],
   "source": [
    "election=pd.read_csv('CSV/wine.csv',sep='\\t')"
   ]
  },
  {
   "cell_type": "code",
   "execution_count": 19,
   "metadata": {},
   "outputs": [
    {
     "output_type": "execute_result",
     "data": {
      "text/plain": [
       "                                                       0\n",
       "0      PK\u0003\u0004\u0014\u0000\u0000\u0000\u0000\u0000�\u0015�R�tS\u0012�\u001a\u0000\u0000�\u001a\u0000\u0000\u0012\u0000\u0000\u0000Index/Document.i...\n",
       "1                                                      \u0005\n",
       "2                    \u0003\b\u0001\u0011\u0010\u0003\u0018\u0000*\u001b��5��5��5��5��5�5��5Ȫ5��5\n",
       "3                                \u0004\b�5\"\u0004\b��5*\u0004\b��52\u0004\bȪ5B�\n",
       "4                                                      �\n",
       "...                                                  ...\n",
       "11166  \u0000\u0000+\u0000\u0000\u0000\u0000\u0000\u0000\u0000\u0000\u0000\u0000\u0000\u0000\u0000�\u001f\u0006\u0000Index/Tables/HeaderStorage...\n",
       "11167  \u0000preview-micro.jpgPK\u0001\u0002>\u0000\u0014\u0000\u0000\u0000\u0000\u0000�\u0015�Rc��NA:\u0000\u0000A:\u0000\u0000...\n",
       "11168                      \u0000preview-web.jpgPK\u0005\u0006\u0000\u0000\u0000\u0000-\u0000-\u0000j\n",
       "11169                                               \u0000\u0000��\n",
       "11170                                                \u0000\u0000\u0000\n",
       "\n",
       "[11171 rows x 1 columns]"
      ],
      "text/html": "<div>\n<style scoped>\n    .dataframe tbody tr th:only-of-type {\n        vertical-align: middle;\n    }\n\n    .dataframe tbody tr th {\n        vertical-align: top;\n    }\n\n    .dataframe thead th {\n        text-align: right;\n    }\n</style>\n<table border=\"1\" class=\"dataframe\">\n  <thead>\n    <tr style=\"text-align: right;\">\n      <th></th>\n      <th>0</th>\n    </tr>\n  </thead>\n  <tbody>\n    <tr>\n      <th>0</th>\n      <td>PK\u0003\u0004\u0014\u0000\u0000\u0000\u0000\u0000�\u0015�R�tS\u0012�\u001a\u0000\u0000�\u001a\u0000\u0000\u0012\u0000\u0000\u0000Index/Document.i...</td>\n    </tr>\n    <tr>\n      <th>1</th>\n      <td>\u0005</td>\n    </tr>\n    <tr>\n      <th>2</th>\n      <td>\u0003\b\u0001\u0011\u0010\u0003\u0018\u0000*\u001b��5��5��5��5��5�5��5Ȫ5��5</td>\n    </tr>\n    <tr>\n      <th>3</th>\n      <td>\u0004\b�5\"\u0004\b��5*\u0004\b��52\u0004\bȪ5B�</td>\n    </tr>\n    <tr>\n      <th>4</th>\n      <td>�</td>\n    </tr>\n    <tr>\n      <th>...</th>\n      <td>...</td>\n    </tr>\n    <tr>\n      <th>11166</th>\n      <td>\u0000\u0000+\u0000\u0000\u0000\u0000\u0000\u0000\u0000\u0000\u0000\u0000\u0000\u0000\u0000�\u001f\u0006\u0000Index/Tables/HeaderStorage...</td>\n    </tr>\n    <tr>\n      <th>11167</th>\n      <td>\u0000preview-micro.jpgPK\u0001\u0002&gt;\u0000\u0014\u0000\u0000\u0000\u0000\u0000�\u0015�Rc��NA:\u0000\u0000A:\u0000\u0000...</td>\n    </tr>\n    <tr>\n      <th>11168</th>\n      <td>\u0000preview-web.jpgPK\u0005\u0006\u0000\u0000\u0000\u0000-\u0000-\u0000j</td>\n    </tr>\n    <tr>\n      <th>11169</th>\n      <td>\u0000\u0000��</td>\n    </tr>\n    <tr>\n      <th>11170</th>\n      <td>\u0000\u0000\u0000</td>\n    </tr>\n  </tbody>\n</table>\n<p>11171 rows × 1 columns</p>\n</div>"
     },
     "metadata": {},
     "execution_count": 19
    }
   ],
   "source": [
    "election"
   ]
  },
  {
   "cell_type": "code",
   "execution_count": null,
   "metadata": {},
   "outputs": [],
   "source": []
  }
 ]
}